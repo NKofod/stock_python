{
 "cells": [
  {
   "cell_type": "code",
   "execution_count": 7,
   "metadata": {},
   "outputs": [],
   "source": [
    "import requests \n",
    "import json \n",
    "import datetime\n",
    "import time "
   ]
  },
  {
   "cell_type": "code",
   "execution_count": 8,
   "metadata": {},
   "outputs": [],
   "source": [
    "base_ticket_url = \"https://api.polygon.io/v3/reference/tickers?active=true&limit=1000&apiKey=07pJyCrwiQyKPIBJzFEsGKGD26V_QTt1\"\n"
   ]
  },
  {
   "cell_type": "code",
   "execution_count": 9,
   "metadata": {},
   "outputs": [],
   "source": [
    "# tmp = requests.get(\"https://api.polygon.io/v2/aggs/ticker/AAPL/range/1/minute/2021-01-09/2023-01-09?adjusted=true&sort=asc&limit=50000&apiKey=07pJyCrwiQyKPIBJzFEsGKGD26V_QTt1\")\n",
    "tmp = requests.get(base_ticket_url)"
   ]
  },
  {
   "cell_type": "code",
   "execution_count": 10,
   "metadata": {},
   "outputs": [],
   "source": [
    "tmp_json = json.loads(tmp.content)\n",
    "stocks_json = []\n",
    "for i in tmp_json['results']:\n",
    "    stocks_json.append(i)\n"
   ]
  },
  {
   "cell_type": "code",
   "execution_count": 11,
   "metadata": {},
   "outputs": [
    {
     "name": "stdout",
     "output_type": "stream",
     "text": [
      "https://api.polygon.io/v3/reference/tickers?cursor=YWN0aXZlPXRydWUmYXA9QUxGTkYlN0NhY2RmOThjNTE5NmZjZjE2ZDAxOTE2ZWVjMDYzODE0NTk1ZTI0NzllZGIyMGYwYWI0ZDQwMzVmYTJjYjU4ZTU0JmFzPSZkYXRlPTIwMjMtMDEtMjMmbGltaXQ9MTAwMCZvcmRlcj1hc2Mmc29ydD10aWNrZXI\n"
     ]
    }
   ],
   "source": [
    "print(tmp_json['next_url'])"
   ]
  },
  {
   "cell_type": "code",
   "execution_count": 12,
   "metadata": {},
   "outputs": [
    {
     "name": "stdout",
     "output_type": "stream",
     "text": [
      "New URL\n",
      "Finished adding stuff\n",
      "New URL\n",
      "Finished adding stuff\n",
      "New URL\n",
      "Finished adding stuff\n",
      "New URL\n",
      "Finished adding stuff\n",
      "New URL\n",
      "Finished adding stuff\n",
      "New URL\n",
      "Finished adding stuff\n",
      "New URL\n",
      "Finished adding stuff\n",
      "New URL\n",
      "Finished adding stuff\n",
      "New URL\n",
      "Finished adding stuff\n",
      "New URL\n",
      "Finished adding stuff\n",
      "New URL\n",
      "Finished adding stuff\n",
      "New URL\n",
      "Finished adding stuff\n",
      "New URL\n",
      "Finished adding stuff\n",
      "New URL\n",
      "Finished adding stuff\n",
      "New URL\n",
      "Finished adding stuff\n",
      "New URL\n",
      "Finished adding stuff\n",
      "New URL\n",
      "Finished adding stuff\n",
      "New URL\n",
      "Finished adding stuff\n",
      "New URL\n",
      "Finished adding stuff\n",
      "New URL\n",
      "Finished adding stuff\n",
      "New URL\n",
      "Finished adding stuff\n",
      "New URL\n",
      "Finished adding stuff\n",
      "New URL\n",
      "Finished adding stuff\n",
      "New URL\n",
      "Finished adding stuff\n",
      "New URL\n",
      "Finished adding stuff\n",
      "New URL\n",
      "Finished adding stuff\n",
      "New URL\n",
      "Finished adding stuff\n",
      "New URL\n",
      "Finished adding stuff\n",
      "New URL\n",
      "Finished adding stuff\n",
      "New URL\n",
      "Finished adding stuff\n"
     ]
    }
   ],
   "source": [
    "while tmp_json['next_url']: \n",
    "    print(\"New URL\")\n",
    "    time.sleep(13)\n",
    "    tmp = requests.get(tmp_json['next_url']+\"&apiKey=07pJyCrwiQyKPIBJzFEsGKGD26V_QTt1\")\n",
    "    tmp_json = json.loads(tmp.content)\n",
    "    for i in tmp_json['results']:\n",
    "        stocks_json.append(i)\n",
    "    print(\"Finished adding stuff\")\n",
    "    with open(\"./polygon_stocks.json\", \"w\") as outfile:\n",
    "        json.dump(stocks_json ,outfile,indent=4,ensure_ascii=False)\n",
    "    try: \n",
    "        tmp_json['next_url']\n",
    "    except KeyError:\n",
    "        break \n",
    "\n",
    "    \n",
    "    "
   ]
  },
  {
   "cell_type": "code",
   "execution_count": null,
   "metadata": {},
   "outputs": [],
   "source": []
  },
  {
   "cell_type": "markdown",
   "metadata": {},
   "source": []
  }
 ],
 "metadata": {
  "kernelspec": {
   "display_name": "Python 3",
   "language": "python",
   "name": "python3"
  },
  "language_info": {
   "codemirror_mode": {
    "name": "ipython",
    "version": 3
   },
   "file_extension": ".py",
   "mimetype": "text/x-python",
   "name": "python",
   "nbconvert_exporter": "python",
   "pygments_lexer": "ipython3",
   "version": "3.10.6 (main, Nov 14 2022, 16:10:14) [GCC 11.3.0]"
  },
  "orig_nbformat": 4,
  "vscode": {
   "interpreter": {
    "hash": "e7370f93d1d0cde622a1f8e1c04877d8463912d04d973331ad4851f04de6915a"
   }
  }
 },
 "nbformat": 4,
 "nbformat_minor": 2
}
