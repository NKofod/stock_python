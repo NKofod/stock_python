{
 "cells": [
  {
   "cell_type": "markdown",
   "metadata": {},
   "source": [
    "# Fetching Stock Prices"
   ]
  },
  {
   "cell_type": "code",
   "execution_count": 55,
   "metadata": {},
   "outputs": [],
   "source": [
    "import pandas as pd\n",
    "import yfinance as yf\n",
    "import datetime\n",
    "from joblib import Parallel, delayed\n",
    "import multiprocessing\n",
    "import json \n",
    "import json.decoder\n",
    "import os \n",
    "import requests\n",
    "import pandas_datareader"
   ]
  },
  {
   "cell_type": "code",
   "execution_count": null,
   "metadata": {},
   "outputs": [],
   "source": []
  },
  {
   "cell_type": "code",
   "execution_count": 56,
   "metadata": {},
   "outputs": [],
   "source": [
    "env_json = {\n",
    "    'Current_day': 1\n",
    "}\n",
    "with open('env.json',\"w\") as outfile:\n",
    "    json.dump(env_json,outfile)"
   ]
  },
  {
   "cell_type": "code",
   "execution_count": 57,
   "metadata": {},
   "outputs": [],
   "source": [
    "tmp_stocks = pd.read_csv('nasdaq.csv')"
   ]
  },
  {
   "cell_type": "code",
   "execution_count": 58,
   "metadata": {},
   "outputs": [],
   "source": [
    "symbols = list(tmp_stocks['Symbol'])"
   ]
  },
  {
   "cell_type": "code",
   "execution_count": 59,
   "metadata": {},
   "outputs": [],
   "source": [
    "tmp_json = {}\n",
    "counter = 0 \n",
    "sub_count = 0 \n",
    "for idx, i in enumerate(symbols):\n",
    "    if \"^\" in i: \n",
    "        continue \n",
    "    if sub_count % 500 == 0:\n",
    "        counter += 1 \n",
    "        tmp_json[counter] = []\n",
    "    tmp_json[counter].append(i)\n",
    "    sub_count += 1 "
   ]
  },
  {
   "cell_type": "code",
   "execution_count": 60,
   "metadata": {},
   "outputs": [
    {
     "data": {
      "text/plain": [
       "14"
      ]
     },
     "execution_count": 60,
     "metadata": {},
     "output_type": "execute_result"
    }
   ],
   "source": [
    "len(tmp_json)"
   ]
  },
  {
   "cell_type": "code",
   "execution_count": 61,
   "metadata": {},
   "outputs": [],
   "source": [
    "with open(\"stocks.json\",\"w\") as outfile:\n",
    "    json.dump(tmp_json,outfile)"
   ]
  },
  {
   "cell_type": "code",
   "execution_count": 62,
   "metadata": {},
   "outputs": [
    {
     "data": {
      "text/html": [
       "<div>\n",
       "<style scoped>\n",
       "    .dataframe tbody tr th:only-of-type {\n",
       "        vertical-align: middle;\n",
       "    }\n",
       "\n",
       "    .dataframe tbody tr th {\n",
       "        vertical-align: top;\n",
       "    }\n",
       "\n",
       "    .dataframe thead th {\n",
       "        text-align: right;\n",
       "    }\n",
       "</style>\n",
       "<table border=\"1\" class=\"dataframe\">\n",
       "  <thead>\n",
       "    <tr style=\"text-align: right;\">\n",
       "      <th></th>\n",
       "      <th>open</th>\n",
       "      <th>high</th>\n",
       "      <th>low</th>\n",
       "      <th>close</th>\n",
       "      <th>volume</th>\n",
       "    </tr>\n",
       "  </thead>\n",
       "  <tbody>\n",
       "    <tr>\n",
       "      <th>2022-12-30 09:31:00</th>\n",
       "      <td>2.9000</td>\n",
       "      <td>2.9100</td>\n",
       "      <td>2.9000</td>\n",
       "      <td>2.9100</td>\n",
       "      <td>255</td>\n",
       "    </tr>\n",
       "    <tr>\n",
       "      <th>2022-12-30 09:32:00</th>\n",
       "      <td>2.9100</td>\n",
       "      <td>2.9100</td>\n",
       "      <td>2.9100</td>\n",
       "      <td>2.9100</td>\n",
       "      <td>1000</td>\n",
       "    </tr>\n",
       "    <tr>\n",
       "      <th>2022-12-30 09:34:00</th>\n",
       "      <td>2.9101</td>\n",
       "      <td>2.9101</td>\n",
       "      <td>2.9101</td>\n",
       "      <td>2.9101</td>\n",
       "      <td>1000</td>\n",
       "    </tr>\n",
       "    <tr>\n",
       "      <th>2022-12-30 09:35:00</th>\n",
       "      <td>2.9200</td>\n",
       "      <td>2.9200</td>\n",
       "      <td>2.9200</td>\n",
       "      <td>2.9200</td>\n",
       "      <td>517</td>\n",
       "    </tr>\n",
       "    <tr>\n",
       "      <th>2022-12-30 09:45:00</th>\n",
       "      <td>2.9200</td>\n",
       "      <td>2.9200</td>\n",
       "      <td>2.9200</td>\n",
       "      <td>2.9200</td>\n",
       "      <td>250</td>\n",
       "    </tr>\n",
       "    <tr>\n",
       "      <th>...</th>\n",
       "      <td>...</td>\n",
       "      <td>...</td>\n",
       "      <td>...</td>\n",
       "      <td>...</td>\n",
       "      <td>...</td>\n",
       "    </tr>\n",
       "    <tr>\n",
       "      <th>2023-01-12 15:56:00</th>\n",
       "      <td>3.0000</td>\n",
       "      <td>3.0000</td>\n",
       "      <td>3.0000</td>\n",
       "      <td>3.0000</td>\n",
       "      <td>1735</td>\n",
       "    </tr>\n",
       "    <tr>\n",
       "      <th>2023-01-12 15:57:00</th>\n",
       "      <td>3.0000</td>\n",
       "      <td>3.0000</td>\n",
       "      <td>3.0000</td>\n",
       "      <td>3.0000</td>\n",
       "      <td>643</td>\n",
       "    </tr>\n",
       "    <tr>\n",
       "      <th>2023-01-12 15:58:00</th>\n",
       "      <td>3.0000</td>\n",
       "      <td>3.0000</td>\n",
       "      <td>2.9998</td>\n",
       "      <td>2.9998</td>\n",
       "      <td>8280</td>\n",
       "    </tr>\n",
       "    <tr>\n",
       "      <th>2023-01-12 15:59:00</th>\n",
       "      <td>3.0100</td>\n",
       "      <td>3.0100</td>\n",
       "      <td>3.0100</td>\n",
       "      <td>3.0100</td>\n",
       "      <td>620</td>\n",
       "    </tr>\n",
       "    <tr>\n",
       "      <th>2023-01-12 16:00:00</th>\n",
       "      <td>3.0200</td>\n",
       "      <td>3.0200</td>\n",
       "      <td>3.0100</td>\n",
       "      <td>3.0100</td>\n",
       "      <td>1517</td>\n",
       "    </tr>\n",
       "  </tbody>\n",
       "</table>\n",
       "<p>606 rows × 5 columns</p>\n",
       "</div>"
      ],
      "text/plain": [
       "                       open    high     low   close  volume\n",
       "2022-12-30 09:31:00  2.9000  2.9100  2.9000  2.9100     255\n",
       "2022-12-30 09:32:00  2.9100  2.9100  2.9100  2.9100    1000\n",
       "2022-12-30 09:34:00  2.9101  2.9101  2.9101  2.9101    1000\n",
       "2022-12-30 09:35:00  2.9200  2.9200  2.9200  2.9200     517\n",
       "2022-12-30 09:45:00  2.9200  2.9200  2.9200  2.9200     250\n",
       "...                     ...     ...     ...     ...     ...\n",
       "2023-01-12 15:56:00  3.0000  3.0000  3.0000  3.0000    1735\n",
       "2023-01-12 15:57:00  3.0000  3.0000  3.0000  3.0000     643\n",
       "2023-01-12 15:58:00  3.0000  3.0000  2.9998  2.9998    8280\n",
       "2023-01-12 15:59:00  3.0100  3.0100  3.0100  3.0100     620\n",
       "2023-01-12 16:00:00  3.0200  3.0200  3.0100  3.0100    1517\n",
       "\n",
       "[606 rows x 5 columns]"
      ]
     },
     "execution_count": 62,
     "metadata": {},
     "output_type": "execute_result"
    }
   ],
   "source": [
    "pandas_datareader.data.DataReader('AAIC' , 'av-intraday', start=datetime.datetime(2022,1,1),end=datetime.datetime(2023,1,14),api_key='QVEGLYRJUK0ABVMT')"
   ]
  }
 ],
 "metadata": {
  "kernelspec": {
   "display_name": "Python 3",
   "language": "python",
   "name": "python3"
  },
  "language_info": {
   "codemirror_mode": {
    "name": "ipython",
    "version": 3
   },
   "file_extension": ".py",
   "mimetype": "text/x-python",
   "name": "python",
   "nbconvert_exporter": "python",
   "pygments_lexer": "ipython3",
   "version": "3.10.6"
  },
  "vscode": {
   "interpreter": {
    "hash": "e7370f93d1d0cde622a1f8e1c04877d8463912d04d973331ad4851f04de6915a"
   }
  }
 },
 "nbformat": 4,
 "nbformat_minor": 4
}
