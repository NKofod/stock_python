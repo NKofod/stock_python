{
 "cells": [
  {
   "cell_type": "code",
   "execution_count": null,
   "id": "9f55afdb-a07d-4309-ae72-0b8daa1f869c",
   "metadata": {},
   "outputs": [],
   "source": []
  }
 ],
 "metadata": {
  "kernelspec": {
   "display_name": "Python 3.9.5 64-bit ('Democracy': conda)",
   "language": "python",
   "name": "python395jvsc74a57bd0f1dbfa5a83ce6ac88cb692899ba4cef4cfba5d8a637defba79f3674d7099e8f1"
  },
  "language_info": {
   "codemirror_mode": {
    "name": "ipython",
    "version": 3
   },
   "file_extension": ".py",
   "mimetype": "text/x-python",
   "name": "python",
   "nbconvert_exporter": "python",
   "pygments_lexer": "ipython3",
   "version": "3.9.5"
  }
 },
 "nbformat": 4,
 "nbformat_minor": 5
}
